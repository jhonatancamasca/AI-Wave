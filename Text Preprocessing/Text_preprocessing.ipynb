{
  "nbformat": 4,
  "nbformat_minor": 0,
  "metadata": {
    "colab": {
      "name": "Limpieza.ipynb",
      "provenance": []
    },
    "kernelspec": {
      "name": "python3",
      "display_name": "Python 3"
    },
    "language_info": {
      "name": "python"
    }
  },
  "cells": [
    {
      "cell_type": "code",
      "metadata": {
        "colab": {
          "base_uri": "https://localhost:8080/"
        },
        "id": "Rr00BGEZnI4O",
        "outputId": "536d3c8c-1680-4004-f433-5868b5484a97"
      },
      "source": [
        "!pip install preprocessor"
      ],
      "execution_count": 39,
      "outputs": [
        {
          "output_type": "stream",
          "name": "stdout",
          "text": [
            "Collecting preprocessor\n",
            "  Downloading preprocessor-1.1.3.tar.gz (4.2 kB)\n",
            "Building wheels for collected packages: preprocessor\n",
            "  Building wheel for preprocessor (setup.py) ... \u001b[?25l\u001b[?25hdone\n",
            "  Created wheel for preprocessor: filename=preprocessor-1.1.3-py3-none-any.whl size=4477 sha256=3ee99017fd9279be4e9b925a3839497d6e3b81a08acffe4755c634f6fc34c226\n",
            "  Stored in directory: /root/.cache/pip/wheels/0e/b7/36/aa37256db62b4bfd35a6f1b5536e9ba843f257b79dcbf3d5f1\n",
            "Successfully built preprocessor\n",
            "Installing collected packages: preprocessor\n",
            "Successfully installed preprocessor-1.1.3\n"
          ]
        }
      ]
    },
    {
      "cell_type": "code",
      "metadata": {
        "colab": {
          "base_uri": "https://localhost:8080/"
        },
        "id": "3r8tAgpGnQzk",
        "outputId": "b98ae1ec-83cc-4e41-c453-1ee29d4ca34f"
      },
      "source": [
        "!pip install unidecode"
      ],
      "execution_count": 47,
      "outputs": [
        {
          "output_type": "stream",
          "name": "stdout",
          "text": [
            "Collecting unidecode\n",
            "  Downloading Unidecode-1.3.2-py3-none-any.whl (235 kB)\n",
            "\u001b[?25l\r\u001b[K     |█▍                              | 10 kB 25.0 MB/s eta 0:00:01\r\u001b[K     |██▉                             | 20 kB 27.7 MB/s eta 0:00:01\r\u001b[K     |████▏                           | 30 kB 32.7 MB/s eta 0:00:01\r\u001b[K     |█████▋                          | 40 kB 17.3 MB/s eta 0:00:01\r\u001b[K     |███████                         | 51 kB 5.3 MB/s eta 0:00:01\r\u001b[K     |████████▍                       | 61 kB 5.9 MB/s eta 0:00:01\r\u001b[K     |█████████▊                      | 71 kB 5.9 MB/s eta 0:00:01\r\u001b[K     |███████████▏                    | 81 kB 6.6 MB/s eta 0:00:01\r\u001b[K     |████████████▌                   | 92 kB 5.3 MB/s eta 0:00:01\r\u001b[K     |██████████████                  | 102 kB 5.8 MB/s eta 0:00:01\r\u001b[K     |███████████████▎                | 112 kB 5.8 MB/s eta 0:00:01\r\u001b[K     |████████████████▊               | 122 kB 5.8 MB/s eta 0:00:01\r\u001b[K     |██████████████████              | 133 kB 5.8 MB/s eta 0:00:01\r\u001b[K     |███████████████████▌            | 143 kB 5.8 MB/s eta 0:00:01\r\u001b[K     |████████████████████▉           | 153 kB 5.8 MB/s eta 0:00:01\r\u001b[K     |██████████████████████▎         | 163 kB 5.8 MB/s eta 0:00:01\r\u001b[K     |███████████████████████▋        | 174 kB 5.8 MB/s eta 0:00:01\r\u001b[K     |█████████████████████████       | 184 kB 5.8 MB/s eta 0:00:01\r\u001b[K     |██████████████████████████▍     | 194 kB 5.8 MB/s eta 0:00:01\r\u001b[K     |███████████████████████████▉    | 204 kB 5.8 MB/s eta 0:00:01\r\u001b[K     |█████████████████████████████▏  | 215 kB 5.8 MB/s eta 0:00:01\r\u001b[K     |██████████████████████████████▋ | 225 kB 5.8 MB/s eta 0:00:01\r\u001b[K     |████████████████████████████████| 235 kB 5.8 MB/s eta 0:00:01\r\u001b[K     |████████████████████████████████| 235 kB 5.8 MB/s \n",
            "\u001b[?25hInstalling collected packages: unidecode\n",
            "Successfully installed unidecode-1.3.2\n"
          ]
        }
      ]
    },
    {
      "cell_type": "code",
      "metadata": {
        "colab": {
          "base_uri": "https://localhost:8080/"
        },
        "id": "lDuEk-lynNIO",
        "outputId": "04fb4521-6f06-4c26-b4ce-b92db6e243f7"
      },
      "source": [
        "!pip install demoji"
      ],
      "execution_count": 42,
      "outputs": [
        {
          "output_type": "stream",
          "name": "stdout",
          "text": [
            "Collecting demoji\n",
            "  Downloading demoji-1.1.0-py3-none-any.whl (42 kB)\n",
            "\u001b[?25l\r\u001b[K     |███████▋                        | 10 kB 22.3 MB/s eta 0:00:01\r\u001b[K     |███████████████▎                | 20 kB 26.9 MB/s eta 0:00:01\r\u001b[K     |███████████████████████         | 30 kB 13.3 MB/s eta 0:00:01\r\u001b[K     |██████████████████████████████▋ | 40 kB 9.6 MB/s eta 0:00:01\r\u001b[K     |████████████████████████████████| 42 kB 682 kB/s \n",
            "\u001b[?25hInstalling collected packages: demoji\n",
            "Successfully installed demoji-1.1.0\n"
          ]
        }
      ]
    },
    {
      "cell_type": "code",
      "metadata": {
        "id": "23hp-w2MkzWT"
      },
      "source": [
        "#Importing Libraries\n",
        "import preprocessor as p\n",
        "import pandas as pd\n",
        "import re\n",
        "import demoji\n",
        "import unicodedata\n",
        "import string\n",
        "import numpy as np\n",
        "import pandas as pd#\n",
        "import string as s\n",
        "import unidecode\n",
        "a=string.punctuation\n",
        "from keras.preprocessing.text import tokenizer_from_json\n",
        "from keras.models import load_model\n",
        "from keras.preprocessing import sequence\n",
        "import pickle\n"
      ],
      "execution_count": 82,
      "outputs": []
    },
    {
      "cell_type": "code",
      "metadata": {
        "id": "MfwQGJ4yk3jL"
      },
      "source": [
        "import pandas as pd"
      ],
      "execution_count": 83,
      "outputs": []
    },
    {
      "cell_type": "code",
      "metadata": {
        "id": "pXwaGjeHkmYJ"
      },
      "source": [
        "#credenciales\n",
        "consumer_key=''\n",
        "consumer_secret=''\n",
        "access_token=''\n",
        "access_token_secret=''\n",
        "import tweepy"
      ],
      "execution_count": 84,
      "outputs": []
    },
    {
      "cell_type": "code",
      "metadata": {
        "id": "kKr0zAMOkpOs"
      },
      "source": [
        "auth= tweepy.OAuthHandler(consumer_key,consumer_secret)\n",
        "auth.set_access_token(access_token, access_token_secret)\n",
        "api=tweepy.API(auth)"
      ],
      "execution_count": 85,
      "outputs": []
    },
    {
      "cell_type": "code",
      "metadata": {
        "id": "Go2WhobYkpS7"
      },
      "source": [
        "results = api.search(q=\"app\" ,lang='es', count=400, tweet_mode='extended')\n",
        "data=[]\n",
        "for tweet in results:\n",
        " # print(tweet.full_text)\n",
        "  data.append(tweet.full_text)"
      ],
      "execution_count": 86,
      "outputs": []
    },
    {
      "cell_type": "code",
      "metadata": {
        "id": "LCljzdmtksz7"
      },
      "source": [
        "data=pd.DataFrame(data,columns=['text'])"
      ],
      "execution_count": 87,
      "outputs": []
    },
    {
      "cell_type": "code",
      "metadata": {
        "colab": {
          "base_uri": "https://localhost:8080/",
          "height": 422
        },
        "id": "9dh7mv5Rk5Ky",
        "outputId": "da62c139-a740-4789-d7bb-370bfe34b4c8"
      },
      "source": [
        "data"
      ],
      "execution_count": 88,
      "outputs": [
        {
          "output_type": "execute_result",
          "data": {
            "text/html": [
              "<div>\n",
              "<style scoped>\n",
              "    .dataframe tbody tr th:only-of-type {\n",
              "        vertical-align: middle;\n",
              "    }\n",
              "\n",
              "    .dataframe tbody tr th {\n",
              "        vertical-align: top;\n",
              "    }\n",
              "\n",
              "    .dataframe thead th {\n",
              "        text-align: right;\n",
              "    }\n",
              "</style>\n",
              "<table border=\"1\" class=\"dataframe\">\n",
              "  <thead>\n",
              "    <tr style=\"text-align: right;\">\n",
              "      <th></th>\n",
              "      <th>text</th>\n",
              "    </tr>\n",
              "  </thead>\n",
              "  <tbody>\n",
              "    <tr>\n",
              "      <th>0</th>\n",
              "      <td>EN VIVO! Conectados al cielo : : RadioMIES\\n\\n...</td>\n",
              "    </tr>\n",
              "    <tr>\n",
              "      <th>1</th>\n",
              "      <td>Meus top artistas do Spotify nas últimas seman...</td>\n",
              "    </tr>\n",
              "    <tr>\n",
              "      <th>2</th>\n",
              "      <td>Condiciones actuales en Guatemala. Usa nuestra...</td>\n",
              "    </tr>\n",
              "    <tr>\n",
              "      <th>3</th>\n",
              "      <td>RT @mediaforcyj: Blockbuster está a 134 Shazam...</td>\n",
              "    </tr>\n",
              "    <tr>\n",
              "      <th>4</th>\n",
              "      <td>@halofairie cuando uso twitter web app tengo e...</td>\n",
              "    </tr>\n",
              "    <tr>\n",
              "      <th>...</th>\n",
              "      <td>...</td>\n",
              "    </tr>\n",
              "    <tr>\n",
              "      <th>95</th>\n",
              "      <td>@elcomerciocom Aun no esta habilitada ni la Ap...</td>\n",
              "    </tr>\n",
              "    <tr>\n",
              "      <th>96</th>\n",
              "      <td>RT @bereaguilarv: Un grupo de abogados está po...</td>\n",
              "    </tr>\n",
              "    <tr>\n",
              "      <th>97</th>\n",
              "      <td>@hteh24 elimina entrambe le app</td>\n",
              "    </tr>\n",
              "    <tr>\n",
              "      <th>98</th>\n",
              "      <td>RT @Rajetx: por favor que saquen una app para ...</td>\n",
              "    </tr>\n",
              "    <tr>\n",
              "      <th>99</th>\n",
              "      <td>RT @lovesjke: 🚨 ENGENE DIFUNDIR 🚨\\n\\nsi lo ven...</td>\n",
              "    </tr>\n",
              "  </tbody>\n",
              "</table>\n",
              "<p>100 rows × 1 columns</p>\n",
              "</div>"
            ],
            "text/plain": [
              "                                                 text\n",
              "0   EN VIVO! Conectados al cielo : : RadioMIES\\n\\n...\n",
              "1   Meus top artistas do Spotify nas últimas seman...\n",
              "2   Condiciones actuales en Guatemala. Usa nuestra...\n",
              "3   RT @mediaforcyj: Blockbuster está a 134 Shazam...\n",
              "4   @halofairie cuando uso twitter web app tengo e...\n",
              "..                                                ...\n",
              "95  @elcomerciocom Aun no esta habilitada ni la Ap...\n",
              "96  RT @bereaguilarv: Un grupo de abogados está po...\n",
              "97                    @hteh24 elimina entrambe le app\n",
              "98  RT @Rajetx: por favor que saquen una app para ...\n",
              "99  RT @lovesjke: 🚨 ENGENE DIFUNDIR 🚨\\n\\nsi lo ven...\n",
              "\n",
              "[100 rows x 1 columns]"
            ]
          },
          "metadata": {},
          "execution_count": 88
        }
      ]
    },
    {
      "cell_type": "code",
      "metadata": {
        "colab": {
          "base_uri": "https://localhost:8080/",
          "height": 422
        },
        "id": "VS-hTMaIk5zF",
        "outputId": "ce714dea-0594-4ce8-acd0-c0fc2f69e569"
      },
      "source": [
        "data"
      ],
      "execution_count": 89,
      "outputs": [
        {
          "output_type": "execute_result",
          "data": {
            "text/html": [
              "<div>\n",
              "<style scoped>\n",
              "    .dataframe tbody tr th:only-of-type {\n",
              "        vertical-align: middle;\n",
              "    }\n",
              "\n",
              "    .dataframe tbody tr th {\n",
              "        vertical-align: top;\n",
              "    }\n",
              "\n",
              "    .dataframe thead th {\n",
              "        text-align: right;\n",
              "    }\n",
              "</style>\n",
              "<table border=\"1\" class=\"dataframe\">\n",
              "  <thead>\n",
              "    <tr style=\"text-align: right;\">\n",
              "      <th></th>\n",
              "      <th>text</th>\n",
              "    </tr>\n",
              "  </thead>\n",
              "  <tbody>\n",
              "    <tr>\n",
              "      <th>0</th>\n",
              "      <td>EN VIVO! Conectados al cielo : : RadioMIES\\n\\n...</td>\n",
              "    </tr>\n",
              "    <tr>\n",
              "      <th>1</th>\n",
              "      <td>Meus top artistas do Spotify nas últimas seman...</td>\n",
              "    </tr>\n",
              "    <tr>\n",
              "      <th>2</th>\n",
              "      <td>Condiciones actuales en Guatemala. Usa nuestra...</td>\n",
              "    </tr>\n",
              "    <tr>\n",
              "      <th>3</th>\n",
              "      <td>RT @mediaforcyj: Blockbuster está a 134 Shazam...</td>\n",
              "    </tr>\n",
              "    <tr>\n",
              "      <th>4</th>\n",
              "      <td>@halofairie cuando uso twitter web app tengo e...</td>\n",
              "    </tr>\n",
              "    <tr>\n",
              "      <th>...</th>\n",
              "      <td>...</td>\n",
              "    </tr>\n",
              "    <tr>\n",
              "      <th>95</th>\n",
              "      <td>@elcomerciocom Aun no esta habilitada ni la Ap...</td>\n",
              "    </tr>\n",
              "    <tr>\n",
              "      <th>96</th>\n",
              "      <td>RT @bereaguilarv: Un grupo de abogados está po...</td>\n",
              "    </tr>\n",
              "    <tr>\n",
              "      <th>97</th>\n",
              "      <td>@hteh24 elimina entrambe le app</td>\n",
              "    </tr>\n",
              "    <tr>\n",
              "      <th>98</th>\n",
              "      <td>RT @Rajetx: por favor que saquen una app para ...</td>\n",
              "    </tr>\n",
              "    <tr>\n",
              "      <th>99</th>\n",
              "      <td>RT @lovesjke: 🚨 ENGENE DIFUNDIR 🚨\\n\\nsi lo ven...</td>\n",
              "    </tr>\n",
              "  </tbody>\n",
              "</table>\n",
              "<p>100 rows × 1 columns</p>\n",
              "</div>"
            ],
            "text/plain": [
              "                                                 text\n",
              "0   EN VIVO! Conectados al cielo : : RadioMIES\\n\\n...\n",
              "1   Meus top artistas do Spotify nas últimas seman...\n",
              "2   Condiciones actuales en Guatemala. Usa nuestra...\n",
              "3   RT @mediaforcyj: Blockbuster está a 134 Shazam...\n",
              "4   @halofairie cuando uso twitter web app tengo e...\n",
              "..                                                ...\n",
              "95  @elcomerciocom Aun no esta habilitada ni la Ap...\n",
              "96  RT @bereaguilarv: Un grupo de abogados está po...\n",
              "97                    @hteh24 elimina entrambe le app\n",
              "98  RT @Rajetx: por favor que saquen una app para ...\n",
              "99  RT @lovesjke: 🚨 ENGENE DIFUNDIR 🚨\\n\\nsi lo ven...\n",
              "\n",
              "[100 rows x 1 columns]"
            ]
          },
          "metadata": {},
          "execution_count": 89
        }
      ]
    },
    {
      "cell_type": "code",
      "metadata": {
        "id": "dYOzT9LxmBjT"
      },
      "source": [
        "def remove_urls(row): \n",
        "    text=row['text']\n",
        "    url_pattern = re.compile(r'https?://\\S+|www\\.\\S+')\n",
        "    a=url_pattern.sub(r'', text)\n",
        "    return a"
      ],
      "execution_count": 90,
      "outputs": []
    },
    {
      "cell_type": "code",
      "metadata": {
        "id": "I-N7ILjJmnGH"
      },
      "source": [
        "def demojir(row):\n",
        "    text=row['text']\n",
        "    text=demoji.replace(text)\n",
        "    return text"
      ],
      "execution_count": 91,
      "outputs": []
    },
    {
      "cell_type": "code",
      "metadata": {
        "id": "JUz6fehSmont"
      },
      "source": [
        "def remove_user(row):\n",
        "    text=row['text']\n",
        "    r = re.findall(\"@[\\w]*\", text)\n",
        "    for i in r:\n",
        "        text = re.sub(i, '', text)\n",
        "    return text"
      ],
      "execution_count": 92,
      "outputs": []
    },
    {
      "cell_type": "code",
      "metadata": {
        "id": "YVS-F0ulmqRN"
      },
      "source": [
        "def remove_hastag(row):\n",
        "    text=row['text']\n",
        "    r = re.findall(\"#[\\w]*\", text)\n",
        "    for i in r:\n",
        "        text = re.sub(i, '', text)\n",
        "    return text\n",
        "    "
      ],
      "execution_count": 93,
      "outputs": []
    },
    {
      "cell_type": "code",
      "metadata": {
        "id": "bB59w_yVmrrv"
      },
      "source": [
        "def remove_rt(row):\n",
        "    text=row['text']\n",
        "    r = re.findall('RT :', text)\n",
        "    for i in r:\n",
        "        text = re.sub(i, '', text)\n",
        "    return text.lower()"
      ],
      "execution_count": 94,
      "outputs": []
    },
    {
      "cell_type": "code",
      "metadata": {
        "id": "Rvr8Lv-ZmtkV"
      },
      "source": [
        "def signos(row):\n",
        "\n",
        "    sentences=row['text']\n",
        "    text_string=re.findall('[\\w]+',sentences)\n",
        "    cad=' '.join(text_string)\n",
        "    cad=unidecode.unidecode(cad)\n",
        "    cad2=cad.translate(str.maketrans(\"\",'',a))\n",
        "    cad3=cad2.split()\n",
        "    cad4=' '.join(cad3)\n",
        "    \n",
        "    return cad4"
      ],
      "execution_count": 95,
      "outputs": []
    },
    {
      "cell_type": "code",
      "metadata": {
        "id": "0TnSZhaEmvLN"
      },
      "source": [
        "data['text'] = data.apply(demojir, axis=1)\n",
        "data['text'] = data.apply(remove_user, axis=1)\n",
        "data['text'] = data.apply(remove_hastag, axis=1)\n",
        "data['text'] = data.apply(remove_rt, axis=1)\n",
        "data['text'] = data.apply(remove_urls, axis=1)\n",
        "data['text'] = data.apply(signos, axis=1)"
      ],
      "execution_count": 96,
      "outputs": []
    },
    {
      "cell_type": "code",
      "metadata": {
        "id": "V6q4DfKGmxK0"
      },
      "source": [
        "data.to_csv('app.csv', index=False, header=True)"
      ],
      "execution_count": 97,
      "outputs": []
    },
    {
      "cell_type": "code",
      "metadata": {
        "id": "U7VqH2Bwncz1"
      },
      "source": [
        ""
      ],
      "execution_count": null,
      "outputs": []
    }
  ]
}