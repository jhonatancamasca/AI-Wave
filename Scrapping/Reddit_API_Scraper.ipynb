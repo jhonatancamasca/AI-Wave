{
  "nbformat": 4,
  "nbformat_minor": 0,
  "metadata": {
    "colab": {
      "name": "Reddit API Scraper.ipynb",
      "provenance": []
    },
    "kernelspec": {
      "name": "python3",
      "display_name": "Python 3"
    },
    "language_info": {
      "name": "python"
    }
  },
  "cells": [
    {
      "cell_type": "code",
      "metadata": {
        "colab": {
          "base_uri": "https://localhost:8080/"
        },
        "id": "t-HQOO2sBTTn",
        "outputId": "f24f11cf-b35d-4931-c605-8533c37b4924"
      },
      "source": [
        "#!pip install praw"
      ],
      "execution_count": 5,
      "outputs": [
        {
          "output_type": "stream",
          "name": "stdout",
          "text": [
            "Collecting praw\n",
            "  Downloading praw-7.4.0-py3-none-any.whl (167 kB)\n",
            "\u001b[K     |████████████████████████████████| 167 kB 5.1 MB/s \n",
            "\u001b[?25hCollecting update-checker>=0.18\n",
            "  Downloading update_checker-0.18.0-py3-none-any.whl (7.0 kB)\n",
            "Collecting prawcore<3,>=2.1\n",
            "  Downloading prawcore-2.3.0-py3-none-any.whl (16 kB)\n",
            "Collecting websocket-client>=0.54.0\n",
            "  Downloading websocket_client-1.2.1-py2.py3-none-any.whl (52 kB)\n",
            "\u001b[K     |████████████████████████████████| 52 kB 1.2 MB/s \n",
            "\u001b[?25hRequirement already satisfied: requests<3.0,>=2.6.0 in /usr/local/lib/python3.7/dist-packages (from prawcore<3,>=2.1->praw) (2.23.0)\n",
            "Requirement already satisfied: idna<3,>=2.5 in /usr/local/lib/python3.7/dist-packages (from requests<3.0,>=2.6.0->prawcore<3,>=2.1->praw) (2.10)\n",
            "Requirement already satisfied: urllib3!=1.25.0,!=1.25.1,<1.26,>=1.21.1 in /usr/local/lib/python3.7/dist-packages (from requests<3.0,>=2.6.0->prawcore<3,>=2.1->praw) (1.24.3)\n",
            "Requirement already satisfied: chardet<4,>=3.0.2 in /usr/local/lib/python3.7/dist-packages (from requests<3.0,>=2.6.0->prawcore<3,>=2.1->praw) (3.0.4)\n",
            "Requirement already satisfied: certifi>=2017.4.17 in /usr/local/lib/python3.7/dist-packages (from requests<3.0,>=2.6.0->prawcore<3,>=2.1->praw) (2021.5.30)\n",
            "Installing collected packages: websocket-client, update-checker, prawcore, praw\n",
            "Successfully installed praw-7.4.0 prawcore-2.3.0 update-checker-0.18.0 websocket-client-1.2.1\n"
          ]
        }
      ]
    },
    {
      "cell_type": "code",
      "metadata": {
        "id": "dgYbabUp_cmU"
      },
      "source": [
        "import praw\n",
        "from praw.models import MoreComments\n",
        "import pandas as pd\n",
        "import pprint"
      ],
      "execution_count": 38,
      "outputs": []
    },
    {
      "cell_type": "code",
      "metadata": {
        "id": "alleIndT_cot"
      },
      "source": [
        "reddit = praw.Reddit(user_agent=\"Comment Extraction (by /u/Z_analytic_guy)\",\n",
        "                     client_id=CLIENT_ID, client_secret=SECRET_KEY)"
      ],
      "execution_count": 7,
      "outputs": []
    },
    {
      "cell_type": "code",
      "metadata": {
        "id": "GrhjdZuxB5he"
      },
      "source": [
        "url = \"https://www.reddit.com/r/UpliftingNews/comments/lemy1b/student_who_made_30k_from_gamestop_donates_games/\"\n",
        "submission = reddit.submission(url=url)"
      ],
      "execution_count": 8,
      "outputs": []
    },
    {
      "cell_type": "code",
      "metadata": {
        "colab": {
          "base_uri": "https://localhost:8080/"
        },
        "id": "lvlBJFc8FLaH",
        "outputId": "61352dd2-d757-4a23-fc07-bf4b92a60012"
      },
      "source": [
        "submission.title\n",
        "submission.url\n",
        "submission.score\n",
        "submission.author\n",
        "submission.author_fullname\n",
        "submission.over_18\n",
        "submission.id\n",
        "print(submission.title,submission.id)  # to make it non-lazy\n",
        "#pprint.pprint(vars(submission))"
      ],
      "execution_count": 71,
      "outputs": [
        {
          "output_type": "stream",
          "name": "stdout",
          "text": [
            "A single father has taken his son, who has cerebral palsy, to over 1,000 heavy metal shows (since finding out how much the genre soothed and comforted him). Now he's organized a metal festival in his son's honor - to help raise awareness of the condition. ao3nva\n"
          ]
        }
      ]
    },
    {
      "cell_type": "code",
      "metadata": {
        "id": "Nl6WER4MZ1tP"
      },
      "source": [
        ""
      ],
      "execution_count": 74,
      "outputs": []
    },
    {
      "cell_type": "code",
      "metadata": {
        "id": "yyw5ufvUaM3S"
      },
      "source": [
        "submission.category"
      ],
      "execution_count": 90,
      "outputs": []
    },
    {
      "cell_type": "code",
      "metadata": {
        "id": "TDHZyvqgH1xC"
      },
      "source": [
        "#pprint.pprint(vars(submission.comments[1]))"
      ],
      "execution_count": 70,
      "outputs": []
    },
    {
      "cell_type": "code",
      "metadata": {
        "id": "EzM3pkVLB5kP"
      },
      "source": [
        "posts = []\n",
        "for top_level_comment in submission.comments[1:]:\n",
        "\n",
        "    if isinstance(top_level_comment, MoreComments):\n",
        "        continue\n",
        "    posts.append({\"title_main\": submission.title,\"body\":top_level_comment.body})\n",
        "posts = pd.DataFrame(posts,columns=[\"body\"])"
      ],
      "execution_count": 18,
      "outputs": []
    },
    {
      "cell_type": "code",
      "metadata": {
        "colab": {
          "base_uri": "https://localhost:8080/"
        },
        "id": "70iS6uDzFw60",
        "outputId": "2f7353d0-f79c-43c5-ccb1-d387113244db"
      },
      "source": [
        "indexNames = posts[(posts.body == '[removed]') | (posts.body == '[deleted]')].index\n",
        "posts.drop(indexNames, inplace=True)\n",
        "print(posts)"
      ],
      "execution_count": 16,
      "outputs": [
        {
          "output_type": "stream",
          "name": "stdout",
          "text": [
            "                                                 body\n",
            "0    why be so cynical? Regardless of his motives,...\n",
            "1   I want to be annoyed by this repost, but I can...\n",
            "2   I love the positive things that GME “winners” ...\n",
            "3   As a fellow gamer this guy is who I aspire to ...\n",
            "4   This is the first I’ve heard of this. Tell me ...\n",
            "5                           And everybody liked that.\n",
            "6   This is how people who are wealthy should use ...\n",
            "7               Walton’s made 110B. Walmart pays 11$.\n",
            "8   This guy is a badass. Sick kids are miserable ...\n",
            "9   Don't see hedge funds doing this. But when the...\n",
            "10  I HAVE SHOWN THOSE BILLIONARES!\\n\\n...gives mo...\n",
            "11                     Hedges don’t do shit like that\n",
            "12                                        Paper hands\n",
            "13                     So he didn’t hold to the moon?\n",
            "14  If anyone feels frustrated by the fact that or...\n",
            "15  I love how many financial experts frame GME ho...\n",
            "16                                               Fake\n",
            "17                                   Go GME 💎🙌🙌🏿🙌🏼🙌🏾🚀\n",
            "18                                               Cool\n",
            "19                                             Repost\n",
            "20  So many cynical people in this subreddit. Lite...\n",
            "21  Hope he saved enough money to pay his capital ...\n",
            "22                                   The fucker sold.\n",
            "23                                                 📄🙌\n",
            "24         should buy a few more shares stay in it ..\n",
            "25  This is why poor people stay poor. Mm mm mm. 🤦‍♀️\n",
            "26                  Wise move for the Tax write-offs.\n",
            "27                 They were likely already very rich\n"
          ]
        }
      ]
    },
    {
      "cell_type": "code",
      "metadata": {
        "colab": {
          "base_uri": "https://localhost:8080/"
        },
        "id": "YLzqcUfJCJS-",
        "outputId": "25e2edd2-b871-4427-a01f-2bc10b0604e6"
      },
      "source": [
        "posts.index"
      ],
      "execution_count": 22,
      "outputs": [
        {
          "output_type": "execute_result",
          "data": {
            "text/plain": [
              "RangeIndex(start=0, stop=28, step=1)"
            ]
          },
          "metadata": {},
          "execution_count": 22
        }
      ]
    },
    {
      "cell_type": "code",
      "metadata": {
        "id": "Sw1uXcMfcDTZ"
      },
      "source": [
        "\"highschool\", \"college\""
      ],
      "execution_count": null,
      "outputs": []
    },
    {
      "cell_type": "code",
      "metadata": {
        "id": "_miUKDsoEQwM"
      },
      "source": [
        "def get_reddit_data(search_word):\n",
        "  posts = []\n",
        "  for submission in reddit.subreddit(search_word).top(\"all\"):\n",
        "    for top_level_comment in submission.comments:\n",
        "      if isinstance(top_level_comment, MoreComments):\n",
        "        continue\n",
        "      posts.append({\"title_main\": submission.title,\"body\":top_level_comment.body, \"permalink\": submission.permalink})\n",
        "  return posts\n",
        "  #posts = pd.DataFrame(posts,columns=[\"body\"])"
      ],
      "execution_count": 82,
      "outputs": []
    },
    {
      "cell_type": "code",
      "metadata": {
        "id": "wVK-mAp4eT1c"
      },
      "source": [
        "data_highschool=get_reddit_data(\"highschool\")\n",
        "data_college=get_reddit_data(\"college\")\n",
        "data_school=get_reddit_data(\"school\")\n",
        "data_university=get_reddit_data(\"University\")"
      ],
      "execution_count": null,
      "outputs": []
    },
    {
      "cell_type": "code",
      "metadata": {
        "id": "UzhBZTT-m5Mv"
      },
      "source": [
        "data_feelings=get_reddit_data(\"Feelings\")\n",
        "data_relap=get_reddit_data(\"relationship_advice\")\n",
        "data_teens=get_reddit_data(\"teenagers\")\n",
        "data_depression=get_reddit_data(\"depression\")"
      ],
      "execution_count": null,
      "outputs": []
    },
    {
      "cell_type": "code",
      "metadata": {
        "id": "RDF5bOBgv5Ss"
      },
      "source": [
        "data_socialanxiety=get_reddit_data(\"socialanxiety\")\n",
        "data_Anxiety=get_reddit_data(\"Anxiety\")"
      ],
      "execution_count": null,
      "outputs": []
    },
    {
      "cell_type": "code",
      "metadata": {
        "id": "XbYtPh54TUio"
      },
      "source": [
        "#pd.DataFrame(data_highschool)"
      ],
      "execution_count": 104,
      "outputs": []
    },
    {
      "cell_type": "code",
      "metadata": {
        "id": "xwuMhamZb-P4"
      },
      "source": [
        "#pd.DataFrame(data_college)"
      ],
      "execution_count": 103,
      "outputs": []
    },
    {
      "cell_type": "code",
      "metadata": {
        "id": "7YL5hTxpizpd"
      },
      "source": [
        "#pd.DataFrame(data_school)"
      ],
      "execution_count": 102,
      "outputs": []
    },
    {
      "cell_type": "code",
      "metadata": {
        "id": "mD_jguBTi8BP"
      },
      "source": [
        "#pd.DataFrame(data_university)"
      ],
      "execution_count": 101,
      "outputs": []
    },
    {
      "cell_type": "code",
      "metadata": {
        "id": "IJ5uw-oRzKrN"
      },
      "source": [
        "def pandas_add_col(data_lt, name):\n",
        "  df=pd.DataFrame(data_lt)\n",
        "  df['subreddit']=name\n",
        "  return df"
      ],
      "execution_count": 105,
      "outputs": []
    },
    {
      "cell_type": "code",
      "metadata": {
        "id": "ydGlYtYVze0-"
      },
      "source": [
        "pandas_add_col(data_highschool, 'highschool')\n",
        "pandas_add_col(data_college, 'college')\n",
        "pandas_add_col(data_school, 'school')\n",
        "pandas_add_col(data_university, 'university')\n",
        "pandas_add_col(data_feelings, 'feelings')\n",
        "pandas_add_col(data_relap, 'relationship_advice')\n",
        "pandas_add_col(data_teens, 'teenagers')\n",
        "pandas_add_col(data_depression, 'depression')\n",
        "pandas_add_col(data_socialanxiety, 'social_anxiety')\n",
        "pandas_add_col(data_Anxiety, 'depression')"
      ],
      "execution_count": null,
      "outputs": []
    },
    {
      "cell_type": "code",
      "metadata": {
        "id": "l86mOvek1AQP"
      },
      "source": [
        "#pd.append([data_pandas_add_col(data_highschool, 'highschool'),pandas_add_col(data_college, 'college')],axis=0)\n",
        "dataset_reddit=pandas_add_col(data_highschool, 'highschool')\\\n",
        ".append(pandas_add_col(data_college, 'college'))\\\n",
        ".append(pandas_add_col(data_school, 'school'))\\\n",
        ".append(pandas_add_col(data_university, 'university'))\\\n",
        ".append(pandas_add_col(data_feelings, 'feelings'))\\\n",
        ".append(pandas_add_col(data_relap, 'relationship_advice'))\\\n",
        ".append(pandas_add_col(data_teens, 'teenagers'))\\\n",
        ".append(pandas_add_col(data_depression, 'depression'))\\\n",
        ".append(pandas_add_col(data_socialanxiety, 'social_anxiety'))\\\n",
        ".append(pandas_add_col(data_Anxiety, 'Anxiety'))"
      ],
      "execution_count": 123,
      "outputs": []
    },
    {
      "cell_type": "code",
      "metadata": {
        "colab": {
          "base_uri": "https://localhost:8080/"
        },
        "id": "fOjsNDMu3BZs",
        "outputId": "b238c618-b014-4164-b6ec-0def73f0e4d2"
      },
      "source": [
        "dataset_reddit.shape"
      ],
      "execution_count": 124,
      "outputs": [
        {
          "output_type": "execute_result",
          "data": {
            "text/plain": [
              "(68725, 4)"
            ]
          },
          "metadata": {},
          "execution_count": 124
        }
      ]
    },
    {
      "cell_type": "code",
      "metadata": {
        "id": "yx4iHgo03NAE"
      },
      "source": [
        "dataset_reddit.to_csv('Dataset_reddit.csv',sep='|',index='False')\n"
      ],
      "execution_count": 125,
      "outputs": []
    },
    {
      "cell_type": "code",
      "metadata": {
        "id": "JjQgwPmD4Hhe"
      },
      "source": [
        "dataset_reddit.to_json('Dataset_reddit_v1.json',orient='records', force_ascii=True)"
      ],
      "execution_count": 127,
      "outputs": []
    },
    {
      "cell_type": "code",
      "metadata": {
        "id": "-Z2ObZ3JjH-x"
      },
      "source": [
        "# data_highschool\n",
        "# data_college\n",
        "# data_school\n",
        "# data_university\n",
        "# data_feelings\n",
        "# data_relap\n",
        "# data_teens\n",
        "# data_depression\n",
        "# data_socialanxiety\n",
        "# data_Anxiety"
      ],
      "execution_count": 100,
      "outputs": []
    },
    {
      "cell_type": "code",
      "metadata": {
        "colab": {
          "base_uri": "https://localhost:8080/",
          "height": 414
        },
        "id": "osmw78v906vz",
        "outputId": "f92ab8f7-236e-47b4-809f-be902cc938d4"
      },
      "source": [
        "pandas_add_col(data_Anxiety, 'depression')"
      ],
      "execution_count": 106,
      "outputs": [
        {
          "output_type": "execute_result",
          "data": {
            "text/html": [
              "<div>\n",
              "<style scoped>\n",
              "    .dataframe tbody tr th:only-of-type {\n",
              "        vertical-align: middle;\n",
              "    }\n",
              "\n",
              "    .dataframe tbody tr th {\n",
              "        vertical-align: top;\n",
              "    }\n",
              "\n",
              "    .dataframe thead th {\n",
              "        text-align: right;\n",
              "    }\n",
              "</style>\n",
              "<table border=\"1\" class=\"dataframe\">\n",
              "  <thead>\n",
              "    <tr style=\"text-align: right;\">\n",
              "      <th></th>\n",
              "      <th>title_main</th>\n",
              "      <th>body</th>\n",
              "      <th>permalink</th>\n",
              "      <th>subreddit</th>\n",
              "    </tr>\n",
              "  </thead>\n",
              "  <tbody>\n",
              "    <tr>\n",
              "      <th>0</th>\n",
              "      <td>Despite the anxiety, despite the depression, d...</td>\n",
              "      <td>Popping in here to say that I adore how much l...</td>\n",
              "      <td>/r/Anxiety/comments/8zcjh1/despite_the_anxiety...</td>\n",
              "      <td>depression</td>\n",
              "    </tr>\n",
              "    <tr>\n",
              "      <th>1</th>\n",
              "      <td>Despite the anxiety, despite the depression, d...</td>\n",
              "      <td>Nice to see people not getting stopped by thei...</td>\n",
              "      <td>/r/Anxiety/comments/8zcjh1/despite_the_anxiety...</td>\n",
              "      <td>depression</td>\n",
              "    </tr>\n",
              "    <tr>\n",
              "      <th>2</th>\n",
              "      <td>Despite the anxiety, despite the depression, d...</td>\n",
              "      <td>Glowing!!! Congrats and you look great!!! 💛💛💛</td>\n",
              "      <td>/r/Anxiety/comments/8zcjh1/despite_the_anxiety...</td>\n",
              "      <td>depression</td>\n",
              "    </tr>\n",
              "    <tr>\n",
              "      <th>3</th>\n",
              "      <td>Despite the anxiety, despite the depression, d...</td>\n",
              "      <td>Nawww congratulations!...you look absolutely s...</td>\n",
              "      <td>/r/Anxiety/comments/8zcjh1/despite_the_anxiety...</td>\n",
              "      <td>depression</td>\n",
              "    </tr>\n",
              "    <tr>\n",
              "      <th>4</th>\n",
              "      <td>Despite the anxiety, despite the depression, d...</td>\n",
              "      <td>I absolutely love your look! It’s retro and cl...</td>\n",
              "      <td>/r/Anxiety/comments/8zcjh1/despite_the_anxiety...</td>\n",
              "      <td>depression</td>\n",
              "    </tr>\n",
              "    <tr>\n",
              "      <th>...</th>\n",
              "      <td>...</td>\n",
              "      <td>...</td>\n",
              "      <td>...</td>\n",
              "      <td>...</td>\n",
              "    </tr>\n",
              "    <tr>\n",
              "      <th>8027</th>\n",
              "      <td>Anyone else want another lockdown so you don’t...</td>\n",
              "      <td>Yes. During lockdown I became very healthy men...</td>\n",
              "      <td>/r/Anxiety/comments/j5nk22/anyone_else_want_an...</td>\n",
              "      <td>depression</td>\n",
              "    </tr>\n",
              "    <tr>\n",
              "      <th>8028</th>\n",
              "      <td>Anyone else want another lockdown so you don’t...</td>\n",
              "      <td>God yes I do. I sound messed up for saying thi...</td>\n",
              "      <td>/r/Anxiety/comments/j5nk22/anyone_else_want_an...</td>\n",
              "      <td>depression</td>\n",
              "    </tr>\n",
              "    <tr>\n",
              "      <th>8029</th>\n",
              "      <td>Anyone else want another lockdown so you don’t...</td>\n",
              "      <td>Yes I do, I know it's selfish because of other...</td>\n",
              "      <td>/r/Anxiety/comments/j5nk22/anyone_else_want_an...</td>\n",
              "      <td>depression</td>\n",
              "    </tr>\n",
              "    <tr>\n",
              "      <th>8030</th>\n",
              "      <td>Anyone else want another lockdown so you don’t...</td>\n",
              "      <td>I had a really good time during lockdown becau...</td>\n",
              "      <td>/r/Anxiety/comments/j5nk22/anyone_else_want_an...</td>\n",
              "      <td>depression</td>\n",
              "    </tr>\n",
              "    <tr>\n",
              "      <th>8031</th>\n",
              "      <td>Anyone else want another lockdown so you don’t...</td>\n",
              "      <td>I’m praying for another lockdown. I just start...</td>\n",
              "      <td>/r/Anxiety/comments/j5nk22/anyone_else_want_an...</td>\n",
              "      <td>depression</td>\n",
              "    </tr>\n",
              "  </tbody>\n",
              "</table>\n",
              "<p>8032 rows × 4 columns</p>\n",
              "</div>"
            ],
            "text/plain": [
              "                                             title_main  ...   subreddit\n",
              "0     Despite the anxiety, despite the depression, d...  ...  depression\n",
              "1     Despite the anxiety, despite the depression, d...  ...  depression\n",
              "2     Despite the anxiety, despite the depression, d...  ...  depression\n",
              "3     Despite the anxiety, despite the depression, d...  ...  depression\n",
              "4     Despite the anxiety, despite the depression, d...  ...  depression\n",
              "...                                                 ...  ...         ...\n",
              "8027  Anyone else want another lockdown so you don’t...  ...  depression\n",
              "8028  Anyone else want another lockdown so you don’t...  ...  depression\n",
              "8029  Anyone else want another lockdown so you don’t...  ...  depression\n",
              "8030  Anyone else want another lockdown so you don’t...  ...  depression\n",
              "8031  Anyone else want another lockdown so you don’t...  ...  depression\n",
              "\n",
              "[8032 rows x 4 columns]"
            ]
          },
          "metadata": {},
          "execution_count": 106
        }
      ]
    },
    {
      "cell_type": "code",
      "metadata": {
        "id": "i-j_o7DWEQy0"
      },
      "source": [
        "posts['look']=posts['body'].str.find('deaf')"
      ],
      "execution_count": 68,
      "outputs": []
    },
    {
      "cell_type": "code",
      "metadata": {
        "colab": {
          "base_uri": "https://localhost:8080/",
          "height": 141
        },
        "id": "Y9LGMX1rEQ1Y",
        "outputId": "5c6f6346-7eb1-4a20-e408-3cf7b29bc352"
      },
      "source": [
        "posts[posts['look']!=-1]"
      ],
      "execution_count": 69,
      "outputs": [
        {
          "output_type": "execute_result",
          "data": {
            "text/html": [
              "<div>\n",
              "<style scoped>\n",
              "    .dataframe tbody tr th:only-of-type {\n",
              "        vertical-align: middle;\n",
              "    }\n",
              "\n",
              "    .dataframe tbody tr th {\n",
              "        vertical-align: top;\n",
              "    }\n",
              "\n",
              "    .dataframe thead th {\n",
              "        text-align: right;\n",
              "    }\n",
              "</style>\n",
              "<table border=\"1\" class=\"dataframe\">\n",
              "  <thead>\n",
              "    <tr style=\"text-align: right;\">\n",
              "      <th></th>\n",
              "      <th>body</th>\n",
              "      <th>look</th>\n",
              "    </tr>\n",
              "  </thead>\n",
              "  <tbody>\n",
              "    <tr>\n",
              "      <th>9997</th>\n",
              "      <td>1000+ Jesus Christ the kids not deaf yet ?!!! ...</td>\n",
              "      <td>32</td>\n",
              "    </tr>\n",
              "    <tr>\n",
              "      <th>10057</th>\n",
              "      <td>Now he’s deaf too.</td>\n",
              "      <td>9</td>\n",
              "    </tr>\n",
              "    <tr>\n",
              "      <th>10059</th>\n",
              "      <td>Now his son is deaf too.</td>\n",
              "      <td>15</td>\n",
              "    </tr>\n",
              "  </tbody>\n",
              "</table>\n",
              "</div>"
            ],
            "text/plain": [
              "                                                    body  look\n",
              "9997   1000+ Jesus Christ the kids not deaf yet ?!!! ...    32\n",
              "10057                                Now he’s deaf too.      9\n",
              "10059                          Now his son is deaf too.     15"
            ]
          },
          "metadata": {},
          "execution_count": 69
        }
      ]
    },
    {
      "cell_type": "code",
      "metadata": {
        "colab": {
          "base_uri": "https://localhost:8080/",
          "height": 414
        },
        "id": "fW-g0zc_EQ3_",
        "outputId": "7a186df0-dfb6-4ecc-8eea-24237d108d89"
      },
      "source": [
        "posts"
      ],
      "execution_count": 67,
      "outputs": [
        {
          "output_type": "execute_result",
          "data": {
            "text/html": [
              "<div>\n",
              "<style scoped>\n",
              "    .dataframe tbody tr th:only-of-type {\n",
              "        vertical-align: middle;\n",
              "    }\n",
              "\n",
              "    .dataframe tbody tr th {\n",
              "        vertical-align: top;\n",
              "    }\n",
              "\n",
              "    .dataframe thead th {\n",
              "        text-align: right;\n",
              "    }\n",
              "</style>\n",
              "<table border=\"1\" class=\"dataframe\">\n",
              "  <thead>\n",
              "    <tr style=\"text-align: right;\">\n",
              "      <th></th>\n",
              "      <th>body</th>\n",
              "      <th>look</th>\n",
              "    </tr>\n",
              "  </thead>\n",
              "  <tbody>\n",
              "    <tr>\n",
              "      <th>0</th>\n",
              "      <td>This subreddit is meant to be a place free of ...</td>\n",
              "      <td>-1</td>\n",
              "    </tr>\n",
              "    <tr>\n",
              "      <th>1</th>\n",
              "      <td>Insulin, insulin, insulin, insulin.</td>\n",
              "      <td>-1</td>\n",
              "    </tr>\n",
              "    <tr>\n",
              "      <th>2</th>\n",
              "      <td>The brand name drug my doctor prescribed me is...</td>\n",
              "      <td>-1</td>\n",
              "    </tr>\n",
              "    <tr>\n",
              "      <th>3</th>\n",
              "      <td>The fact that insulin isn't practically free i...</td>\n",
              "      <td>-1</td>\n",
              "    </tr>\n",
              "    <tr>\n",
              "      <th>4</th>\n",
              "      <td>You don’t need to ‘produce’ the drugs. You jus...</td>\n",
              "      <td>-1</td>\n",
              "    </tr>\n",
              "    <tr>\n",
              "      <th>...</th>\n",
              "      <td>...</td>\n",
              "      <td>...</td>\n",
              "    </tr>\n",
              "    <tr>\n",
              "      <th>10085</th>\n",
              "      <td>I love how the father says \"us boys\"</td>\n",
              "      <td>-1</td>\n",
              "    </tr>\n",
              "    <tr>\n",
              "      <th>10086</th>\n",
              "      <td>here i thought my dad was helping me when he r...</td>\n",
              "      <td>-1</td>\n",
              "    </tr>\n",
              "    <tr>\n",
              "      <th>10087</th>\n",
              "      <td>Hellyeah! \\m/</td>\n",
              "      <td>-1</td>\n",
              "    </tr>\n",
              "    <tr>\n",
              "      <th>10088</th>\n",
              "      <td>metal would definitely get him going. haha</td>\n",
              "      <td>-1</td>\n",
              "    </tr>\n",
              "    <tr>\n",
              "      <th>10089</th>\n",
              "      <td>Thanks for making me cry, I needed it.</td>\n",
              "      <td>-1</td>\n",
              "    </tr>\n",
              "  </tbody>\n",
              "</table>\n",
              "<p>10090 rows × 2 columns</p>\n",
              "</div>"
            ],
            "text/plain": [
              "                                                    body  look\n",
              "0      This subreddit is meant to be a place free of ...    -1\n",
              "1                    Insulin, insulin, insulin, insulin.    -1\n",
              "2      The brand name drug my doctor prescribed me is...    -1\n",
              "3      The fact that insulin isn't practically free i...    -1\n",
              "4      You don’t need to ‘produce’ the drugs. You jus...    -1\n",
              "...                                                  ...   ...\n",
              "10085               I love how the father says \"us boys\"    -1\n",
              "10086  here i thought my dad was helping me when he r...    -1\n",
              "10087                                     Hellyeah! \\m/     -1\n",
              "10088         metal would definitely get him going. haha    -1\n",
              "10089             Thanks for making me cry, I needed it.    -1\n",
              "\n",
              "[10090 rows x 2 columns]"
            ]
          },
          "metadata": {},
          "execution_count": 67
        }
      ]
    },
    {
      "cell_type": "code",
      "metadata": {
        "id": "N-LT151yEQ6g"
      },
      "source": [
        ""
      ],
      "execution_count": null,
      "outputs": []
    },
    {
      "cell_type": "code",
      "metadata": {
        "id": "EBli0kZJEQ9A"
      },
      "source": [
        "posts = []\n",
        "for submission in reddit.subreddit(\"UpliftingNews\").top(\"all\"):\n",
        "  for top_level_comment in submission.comments:\n",
        "    if isinstance(top_level_comment, MoreComments):\n",
        "      continue\n",
        "    posts.append(top_level_comment.body)\n",
        "posts = pd.DataFrame(posts,columns=[\"body\"])"
      ],
      "execution_count": null,
      "outputs": []
    }
  ]
}